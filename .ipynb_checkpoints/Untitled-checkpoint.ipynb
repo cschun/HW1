{
 "cells": [
  {
   "cell_type": "code",
   "execution_count": 1,
   "metadata": {},
   "outputs": [],
   "source": [
    "import numpy as np\n",
    "from numpy import random\n",
    "import matplotlib.pyplot as plt"
   ]
  },
  {
   "cell_type": "code",
   "execution_count": 2,
   "metadata": {},
   "outputs": [],
   "source": [
    "m1 = 1\n",
    "m2 = 2\n",
    "e = 1 #eccentricity, is this the same as the softening parameter?\n",
    "soft = 0.2\n",
    "nstep = 1000\n",
    "G = 1\n",
    "dt = 1.0\n",
    "v = [[],[]]\n",
    "#we don't mark m3 because to set it to 0 would make it have an effect. \n",
    "#do we need to predecide rmin? it feels like we shouldn't."
   ]
  },
  {
   "cell_type": "code",
   "execution_count": 3,
   "metadata": {},
   "outputs": [],
   "source": [
    "def radius(phi):\n",
    "    r = rmin*(1+e)/(1-e*np.cos(phi))"
   ]
  },
  {
   "cell_type": "code",
   "execution_count": 52,
   "metadata": {
    "scrolled": false
   },
   "outputs": [
    {
     "data": {
      "image/png": "[encoded data removed]",
      "text/plain": [
       "<Figure size 432x288 with 1 Axes>"
      ]
     },
     "metadata": {
      "needs_background": "light"
     },
     "output_type": "display_data"
    }
   ],
   "source": [
    "x = [[],[]]\n",
    "y = []\n",
    "r = np.linspace(0,14,7)\n",
    "for i in range(7):\n",
    "    angles = np.linspace(0,1,(i+1)**2)*(np.pi*2)\n",
    "    x[0].extend(2*i*np.cos(angles))\n",
    "    x[1].extend(2*i*np.sin(angles))\n",
    "plt.scatter(x[0],x[1])\n",
    "plt.show()\n",
    "x = np.array(x, float)"
   ]
  },
  {
   "cell_type": "code",
   "execution_count": 53,
   "metadata": {},
   "outputs": [],
   "source": [
    "\n",
    "def accel(x):\n",
    "    r = (np.power(x[0],2) + np.power(x[1],2))**0.5\n",
    "    a = [-G*x[0] / r**3, -G*x[1] / r**3]\n",
    "    return a"
   ]
  },
  {
   "cell_type": "code",
   "execution_count": 54,
   "metadata": {
    "scrolled": false
   },
   "outputs": [
    {
     "name": "stdout",
     "output_type": "stream",
     "text": [
      "[-0.00000000e+00 -2.00000000e+00  1.00000000e+00  1.00000000e+00\n",
      " -2.00000000e+00 -4.00000000e+00 -2.82842712e+00 -2.44929360e-16\n",
      "  2.82842712e+00  4.00000000e+00  2.82842712e+00  7.34788079e-16\n",
      " -2.82842712e+00 -4.00000000e+00 -6.00000000e+00 -5.48127275e+00\n",
      " -4.01478364e+00 -1.85410197e+00  6.27170780e-01  3.00000000e+00\n",
      "  4.85410197e+00  5.86888560e+00  5.86888560e+00  4.85410197e+00\n",
      "  3.00000000e+00  6.27170780e-01 -1.85410197e+00 -4.01478364e+00\n",
      " -5.48127275e+00 -6.00000000e+00 -8.00000000e+00 -7.72740661e+00\n",
      " -6.92820323e+00 -5.65685425e+00 -4.00000000e+00 -2.07055236e+00\n",
      " -4.89858720e-16  2.07055236e+00  4.00000000e+00  5.65685425e+00\n",
      "  6.92820323e+00  7.72740661e+00  8.00000000e+00  7.72740661e+00\n",
      "  6.92820323e+00  5.65685425e+00  4.00000000e+00  2.07055236e+00\n",
      "  1.46957616e-15 -2.07055236e+00 -4.00000000e+00 -5.65685425e+00\n",
      " -6.92820323e+00 -7.72740661e+00 -8.00000000e+00 -1.00000000e+01\n",
      " -9.83929589e+00 -9.36234871e+00 -8.58448794e+00 -7.53071466e+00\n",
      " -6.23489802e+00 -4.73868662e+00 -3.09016994e+00 -1.34233266e+00\n",
      "  4.48648304e-01  2.22520934e+00  3.93025032e+00  5.50896981e+00\n",
      "  6.91062649e+00  8.09016994e+00  9.00968868e+00  9.63962861e+00\n",
      "  9.95974294e+00  9.95974294e+00  9.63962861e+00  9.00968868e+00\n",
      "  8.09016994e+00  6.91062649e+00  5.50896981e+00  3.93025032e+00\n",
      "  2.22520934e+00  4.48648304e-01 -1.34233266e+00 -3.09016994e+00\n",
      " -4.73868662e+00 -6.23489802e+00 -7.53071466e+00 -8.58448794e+00\n",
      " -9.36234871e+00 -9.83929589e+00 -1.00000000e+01 -1.20000000e+01\n",
      " -1.18973383e+01 -1.15911099e+01 -1.10865544e+01 -1.03923048e+01\n",
      " -9.52024008e+00 -8.48528137e+00 -7.30513715e+00 -6.00000000e+00\n",
      " -4.59220119e+00 -3.10582854e+00 -1.56631431e+00 -7.34788079e-16\n",
      "  1.56631431e+00  3.10582854e+00  4.59220119e+00  6.00000000e+00\n",
      "  7.30513715e+00  8.48528137e+00  9.52024008e+00  1.03923048e+01\n",
      "  1.10865544e+01  1.15911099e+01  1.18973383e+01  1.20000000e+01\n",
      "  1.18973383e+01  1.15911099e+01  1.10865544e+01  1.03923048e+01\n",
      "  9.52024008e+00  8.48528137e+00  7.30513715e+00  6.00000000e+00\n",
      "  4.59220119e+00  3.10582854e+00  1.56631431e+00  2.20436424e-15\n",
      " -1.56631431e+00 -3.10582854e+00 -4.59220119e+00 -6.00000000e+00\n",
      " -7.30513715e+00 -8.48528137e+00 -9.52024008e+00 -1.03923048e+01\n",
      " -1.10865544e+01 -1.15911099e+01 -1.18973383e+01 -1.20000000e+01]\n"
     ]
    },
    {
     "ename": "ValueError",
     "evalue": "operands could not be broadcast together with shapes (2,0) (140,) ",
     "output_type": "error",
     "traceback": [
      "\u001b[0;31m---------------------------------------------------------------------------\u001b[0m",
      "\u001b[0;31mValueError\u001b[0m                                Traceback (most recent call last)",
      "Input \u001b[0;32mIn [54]\u001b[0m, in \u001b[0;36m<module>\u001b[0;34m\u001b[0m\n\u001b[1;32m      1\u001b[0m \u001b[38;5;28;01mfor\u001b[39;00m i \u001b[38;5;129;01min\u001b[39;00m \u001b[38;5;28mrange\u001b[39m(nstep):\n\u001b[1;32m      2\u001b[0m     \u001b[38;5;28mprint\u001b[39m(accel(x))\n\u001b[0;32m----> 3\u001b[0m     v \u001b[38;5;241m+\u001b[39m\u001b[38;5;241m=\u001b[39m accel(x) \u001b[38;5;241m*\u001b[39m dt \u001b[38;5;241m/\u001b[39m \u001b[38;5;241m2\u001b[39m\n\u001b[1;32m      4\u001b[0m     x \u001b[38;5;241m+\u001b[39m\u001b[38;5;241m=\u001b[39m v \u001b[38;5;241m*\u001b[39m dt\n\u001b[1;32m      5\u001b[0m     v \u001b[38;5;241m+\u001b[39m\u001b[38;5;241m=\u001b[39m accel(x) \u001b[38;5;241m*\u001b[39m dt \u001b[38;5;241m/\u001b[39m \u001b[38;5;241m2\u001b[39m\n",
      "\u001b[0;31mValueError\u001b[0m: operands could not be broadcast together with shapes (2,0) (140,) "
     ]
    }
   ],
   "source": [
    "for i in range(nstep):\n",
    "    print(accel(x))\n",
    "    v += accel(x) * dt / 2\n",
    "    x += v * dt\n",
    "    v += accel(x) * dt / 2\n",
    "    t += dt"
   ]
  },
  {
   "cell_type": "code",
   "execution_count": null,
   "metadata": {},
   "outputs": [],
   "source": [
    "plt.scatter(x,y)\n",
    "plt.show()"
   ]
  }
 ],
 "metadata": {
  "kernelspec": {
   "display_name": "Python 3 (ipykernel)",
   "language": "python",
   "name": "python3"
  },
  "language_info": {
   "codemirror_mode": {
    "name": "ipython",
    "version": 3
   },
   "file_extension": ".py",
   "mimetype": "text/x-python",
   "name": "python",
   "nbconvert_exporter": "python",
   "pygments_lexer": "ipython3",
   "version": "3.8.10"
  }
 },
 "nbformat": 4,
 "nbformat_minor": 4
}
