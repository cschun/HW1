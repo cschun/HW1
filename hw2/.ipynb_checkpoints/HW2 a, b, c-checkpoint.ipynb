{
 "cells": [
  {
   "cell_type": "code",
   "execution_count": null,
   "metadata": {},
   "outputs": [],
   "source": [
    "#part a"
   ]
  },
  {
   "cell_type": "code",
   "execution_count": 1,
   "metadata": {},
   "outputs": [],
   "source": [
    "import numpy as np\n",
    "import matplotlib.pyplot as plt\n",
    "from numpy import random"
   ]
  },
  {
   "cell_type": "code",
   "execution_count": 40,
   "metadata": {},
   "outputs": [],
   "source": [
    "#initialization base case for variables\n",
    "M = 1e11 #mass of the sun in geometric units\n",
    "G = 1 # gravitational constant is 1 in geometrical units\n",
    "a = 1.5 #stays the same in geometrical units\n",
    "N = 1/M "
   ]
  },
  {
   "cell_type": "code",
   "execution_count": 41,
   "metadata": {},
   "outputs": [],
   "source": [
    "'''\n",
    "space_density: Density equation and return \n",
    "inputs: r: float array; radii\n",
    "outputs: p: float array; densities\n",
    "'''\n",
    "def space_density(r):\n",
    "    p = (3*M/(4*np.pi*(a**3)))*((1+((r/a)**2))**(-5/2))\n",
    "    return p"
   ]
  },
  {
   "cell_type": "code",
   "execution_count": 42,
   "metadata": {},
   "outputs": [],
   "source": [
    "'''\n",
    "potential: potential equation and return \n",
    "inputs: r: float array; radii\n",
    "outputs: phi: float array; potentials\n",
    "'''\n",
    "def potential(r): #potential equation and return\n",
    "    phi = (-G*M)/(np.sqrt(r**2+a**2))\n",
    "    return phi"
   ]
  },
  {
   "cell_type": "code",
   "execution_count": 43,
   "metadata": {},
   "outputs": [],
   "source": [
    "'''\n",
    "energy: potential energy equation and return \\\n",
    "inputs: none\n",
    "outputs: W: float array; potential energies\n",
    "'''\n",
    "def energy():\n",
    "    W = -(3*np.pi/64)*G*(M**2)/a\n",
    "    return W"
   ]
  },
  {
   "cell_type": "code",
   "execution_count": 44,
   "metadata": {},
   "outputs": [],
   "source": [
    "'''\n",
    "radius: radius calculation and return \n",
    "inputs: X1: float array; randomly generated numbers between 0 and 1\n",
    "outputs: r: float array; radii\n",
    "'''\n",
    "def radius(X):\n",
    "    r = (X1**(-2/3)-1)**(-1/2)\n",
    "    return r"
   ]
  },
  {
   "cell_type": "code",
   "execution_count": 45,
   "metadata": {},
   "outputs": [],
   "source": [
    "'''\n",
    "xyz: component calculation and return. this can be used for \n",
    "velocities and distances\n",
    "inputs: X2: float array; randomly generated numbers between 0 and 1\n",
    "X3: float array; randomly generated numbers between 0 and 1\n",
    "r: float array; radii\n",
    "outputs: x: float array; x components of the X2 array\n",
    "y: float array; y components of the X2 array\n",
    "z: float array; z components of the X2 array\n",
    "'''\n",
    "def xyz(X2, X3, r):\n",
    "    z = (1-2*X2)*r\n",
    "    x = ((r**2-z**2)**1/2)*np.cos(2*np.pi*X3)\n",
    "    y = ((r**2-z**2)**1/2)*np.sin(2*np.pi*X3)\n",
    "    return x, y, z"
   ]
  },
  {
   "cell_type": "code",
   "execution_count": 46,
   "metadata": {},
   "outputs": [],
   "source": [
    "'''\n",
    "max_velocity: maximum velocity calculation  and return \n",
    "inputs: r: float array; radii\n",
    "outputs: v: float array; maximum velocities for different arrays\n",
    "'''\n",
    "def max_velocity(r):\n",
    "    v = (2**(1/2))*((1+r**2)**(-1/4))\n",
    "    return v"
   ]
  },
  {
   "cell_type": "code",
   "execution_count": 47,
   "metadata": {},
   "outputs": [],
   "source": [
    "'''\n",
    "prob_dis: probability distrbution calculation  and return. this essentially\n",
    "means that this piece of code compares two arays of random numbers, x4 and x5\n",
    "to ensure that g(x4)>0.1x5, if it finds a value for which this isn't true, then\n",
    "it replaces it with a new random number until it does fulfill those conditions\n",
    "inputs: X4: float array; randomly generated numbers between 0 and 1\n",
    "X5: float array; randomly generated numbers between 0 and 1\n",
    "outputs: X4: float array; randomly generated numbers between 0 and 1 that obeys\n",
    "g(x4)>0.1x5\n",
    "'''\n",
    "def prob_dis(X4, X5):\n",
    "    g = (X4**2)*((1-X4**2)**(7/2))\n",
    "    for j in range(len(X4)):\n",
    "        g = (X4[j]**2)*((1-X4[j]**2)**(7/2))\n",
    "        while 0.1*X5[j] > g: #discards both arrays if g(X4) is less \n",
    "            X4[j] = random.rand(1)\n",
    "            X5[j] = random.rand(1)\n",
    "            g = (X4[j]**2)*((1-X4[j]**2)**(7/2))\n",
    "    return X4"
   ]
  },
  {
   "cell_type": "code",
   "execution_count": 48,
   "metadata": {},
   "outputs": [],
   "source": [
    "#Part a"
   ]
  },
  {
   "cell_type": "code",
   "execution_count": 49,
   "metadata": {},
   "outputs": [],
   "source": [
    "#random variable computation\n",
    "X1 = random.rand(100000)\n",
    "X2 = np.cos(random.rand(100000))\n",
    "X3 = random.rand(100000)/(2*np.pi)\n",
    "X4 = random.rand(100000)\n",
    "X5 = random.rand(100000)\n",
    "X6 = np.cos(random.rand(100000))\n",
    "X7 = random.rand(100000)/(2*np.pi)"
   ]
  },
  {
   "cell_type": "code",
   "execution_count": 50,
   "metadata": {},
   "outputs": [],
   "source": [
    "#variable computation\n",
    "r = radius(X1) #computation of the radius for a number of random variables\n",
    "x, y, z = xyz(X2, X3, r) #computation of the x,y,+z, components of the radius\n",
    "ve = max_velocity(r) #maximum velocity at different radiuses.\n",
    "q = prob_dis(X4, X5) #prbability distribution array following guidelines\n",
    "v = q*ve #calculates v for every radius using q and max velocity\n",
    "w, u, v = xyz(X6, X7, v) #x, y, and z components of velocity\n",
    "E = energy() #computation of energy"
   ]
  },
  {
   "cell_type": "code",
   "execution_count": 51,
   "metadata": {},
   "outputs": [],
   "source": [
    "#scaling of x y and z components to the right values\n",
    "x=x*(3*np.pi/64)*(M**2)/(np.abs(E))\n",
    "y=y*(3*np.pi/64)*(M**2)/(np.abs(E))\n",
    "z=z*(3*np.pi/64)*(M**2)/(np.abs(E))\n",
    "\n",
    "w=w*(64/3*np.pi)*((np.abs(E))**(1/2))\n",
    "u=u*(64/3*np.pi)*((np.abs(E))**(1/2))\n",
    "v=v*(64/3*np.pi)*((np.abs(E))**(1/2))"
   ]
  },
  {
   "cell_type": "code",
   "execution_count": 52,
   "metadata": {},
   "outputs": [
    {
     "data": {
      "image/png": "[encoded data removed]",
      "text/plain": [
       "<Figure size 432x288 with 1 Axes>"
      ]
     },
     "metadata": {
      "needs_background": "light"
     },
     "output_type": "display_data"
    }
   ],
   "source": [
    "#tentitive plotting of velocities in 3d.\n",
    "fig = plt.figure()\n",
    "ax = fig.add_subplot(projection='3d')\n",
    "\n",
    "ax.plot(w, u, v, \"o\", color ='black')\n",
    "plt.show()"
   ]
  },
  {
   "cell_type": "code",
   "execution_count": 53,
   "metadata": {},
   "outputs": [],
   "source": [
    "#output of all results\n",
    "f = open(\"results.txt\", \"w\")\n",
    "for i in range(len(x)):\n",
    "    f.write(\"%6.3f %6.3f %6.3f %20.7f %20.7f %20.7f\"%(x[i], y[i], z[i], w[i], u[i], v[i]))\n",
    "f.close()"
   ]
  },
  {
   "cell_type": "code",
   "execution_count": 54,
   "metadata": {},
   "outputs": [],
   "source": [
    "#part b"
   ]
  },
  {
   "cell_type": "code",
   "execution_count": 61,
   "metadata": {},
   "outputs": [
    {
     "data": {
      "image/png": "[encoded data removed]",
      "text/plain": [
       "<Figure size 432x288 with 1 Axes>"
      ]
     },
     "metadata": {
      "needs_background": "light"
     },
     "output_type": "display_data"
    },
    {
     "data": {
      "text/plain": [
       "array([1.91149948e+13, 5.52218772e+13, 5.30127508e+13, ...,\n",
       "       3.55982025e+13, 5.41043615e+13, 4.94606668e+13])"
      ]
     },
     "execution_count": 61,
     "metadata": {},
     "output_type": "execute_result"
    }
   ],
   "source": [
    "#histogram plotting and computation of density based on it's radius\n",
    "P = 4*np.pi*(r**2)*space_density(r)\n",
    "bins = np.linspace(0,6e13, num=100)\n",
    "#P = MinMaxScaler()\n",
    "fig = plt.figure()\n",
    "ax = fig.add_subplot()\n",
    "\n",
    "ax.hist(P,bins=bins)\n",
    "plt.show()\n",
    "P"
   ]
  },
  {
   "cell_type": "code",
   "execution_count": 58,
   "metadata": {},
   "outputs": [],
   "source": [
    "#part c"
   ]
  },
  {
   "cell_type": "code",
   "execution_count": 59,
   "metadata": {},
   "outputs": [
    {
     "data": {
      "text/plain": [
       "array([1.50450944e+25, 1.10708693e+24, 8.25084821e+28, ...,\n",
       "       1.23082695e+27, 2.22837115e+29, 1.33376128e+26])"
      ]
     },
     "execution_count": 59,
     "metadata": {},
     "output_type": "execute_result"
    }
   ],
   "source": [
    "#histogram plotting and computation of energy based on it's radius\n",
    "#as well as plotting of the line of the analytic energy solution\n",
    "E = (1/2)*(v**2) + potential(r)"
   ]
  },
  {
   "cell_type": "code",
   "execution_count": 63,
   "metadata": {},
   "outputs": [
    {
     "data": {
      "image/png": "[encoded data removed]",
      "text/plain": [
       "<Figure size 432x288 with 1 Axes>"
      ]
     },
     "metadata": {
      "needs_background": "light"
     },
     "output_type": "display_data"
    },
    {
     "data": {
      "text/plain": [
       "array([3.35878728e+29, 1.94217549e+30, 3.35403587e+29, ...,\n",
       "       3.46517618e+28, 7.23031502e+28, 1.39088243e+30])"
      ]
     },
     "execution_count": 63,
     "metadata": {},
     "output_type": "execute_result"
    }
   ],
   "source": [
    "x = np.linspace(1, 1e30, num=100)\n",
    "fig = plt.figure()\n",
    "ax = plt.axes()\n",
    "\n",
    "ax.hist(E, bins = x)\n",
    "ax.plot(x, (3000*(x/1e30)**(7/2)))\n",
    "plt.show()\n",
    "E"
   ]
  },
  {
   "cell_type": "code",
   "execution_count": null,
   "metadata": {},
   "outputs": [],
   "source": []
  }
 ],
 "metadata": {
  "kernelspec": {
   "display_name": "Python 3 (ipykernel)",
   "language": "python",
   "name": "python3"
  },
  "language_info": {
   "codemirror_mode": {
    "name": "ipython",
    "version": 3
   },
   "file_extension": ".py",
   "mimetype": "text/x-python",
   "name": "python",
   "nbconvert_exporter": "python",
   "pygments_lexer": "ipython3",
   "version": "3.8.10"
  }
 },
 "nbformat": 4,
 "nbformat_minor": 4
}
